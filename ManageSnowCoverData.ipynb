{
 "cells": [
  {
   "cell_type": "markdown",
   "metadata": {},
   "source": [
    "# Manage Snow cover data from multiple Multidimensional files"
   ]
  },
  {
   "cell_type": "code",
   "execution_count": 1,
   "metadata": {},
   "outputs": [],
   "source": [
    "# Import necessary modules\n",
    "import os, arcpy, time\n",
    "from arcpy.ia import * # also available with sa module\n",
    "start_time = time.time()\n",
    "arcpy.env.overwriteOutput = True"
   ]
  },
  {
   "cell_type": "code",
   "execution_count": 2,
   "metadata": {},
   "outputs": [
    {
     "name": "stdout",
     "output_type": "stream",
     "text": [
      "Creating mosaic dataset...\n"
     ]
    },
    {
     "data": {
      "text/html": [
       "<div class='gpresult'><h2>Messages</h2><div id='messages' data-messages='[\"Start Time: Saturday, February 12, 2022 9:49:19 PM\",\"Succeeded at Saturday, February 12, 2022 9:49:26 PM (Elapsed Time: 7.36 seconds)\"]' data-show='true'><div id = 'default' /></div></div>"
      ],
      "text/plain": [
       "<Result 'C:\\\\SCMain\\\\demo\\\\DevSummit2022\\\\out\\\\out.gdb\\\\SnowCover_mosaic'>"
      ]
     },
     "execution_count": 2,
     "metadata": {},
     "output_type": "execute_result"
    }
   ],
   "source": [
    "# Step 1: Create mosaic dataset\n",
    "print(\"Creating mosaic dataset...\")\n",
    "in_workspace = r\"C:\\DevSummit2022\\out\\out.gdb\"\n",
    "in_mosaicdataset_name = \"SnowCover_mosaic\"\n",
    "coordinate_system = arcpy.SpatialReference(4326)\n",
    "num_bands = \"\"\n",
    "pixel_type = \"64_BIT\"\n",
    "arcpy.CreateMosaicDataset_management(in_workspace, in_mosaicdataset_name, coordinate_system, num_bands, pixel_type)"
   ]
  },
  {
   "cell_type": "code",
   "execution_count": 3,
   "metadata": {},
   "outputs": [
    {
     "name": "stdout",
     "output_type": "stream",
     "text": [
      "Adding rasters to the mosaic datset...\n"
     ]
    },
    {
     "data": {
      "text/html": [
       "<div class='gpresult'><h2>Messages</h2><div id='messages' data-messages='[\"Start Time: Saturday, February 12, 2022 9:50:05 PM\",\"2022-02-12T21:50:06.948: Loading raster datasets\",\"2022-02-12T21:50:19.944: Completed crawling 468 data source items. Added 468 mosaic dataset items.\",\"2022-02-12T21:50:19.947: Synchronizing crawled data source items\",\"2022-02-12T21:50:19.960: Synchronizing items associated with raster type instance &#39;HDF&#39; [ID: 1].\",\"2022-02-12T21:50:19.963: Distributing mosaic dataset operation across 4 parallel instances on the specified host: [SCHATTERJEE2].\",\"2022-02-12T21:50:24.242: Populating auxiliary fields.\",\"2022-02-12T21:50:27.892: Estimating raster statistics for mosaic dataset.\",\"2022-02-12T21:50:28.281: Estimating raster statistics for processing templates.\",\"2022-02-12T21:50:32.853: Completed synchronization: 468 items selected, 468 items synchronized.\",\"2022-02-12T21:50:33.083: Computing cell size levels\",\"2022-02-12T21:50:33.083: Computing unique cell size values\",\"2022-02-12T21:50:34.389: Computing maximum cell size values\",\"2022-02-12T21:50:34.393: Computing minimum cell size values\",\"2022-02-12T21:50:34.400: Updating visibility values of selected items\",\"2022-02-12T21:50:34.650: Computing maximum cell size for mosaic dataset\",\"2022-02-12T21:50:34.666: Completed computing cell size ranges.\",\"2022-02-12T21:50:34.951: Completed building boundary.\",\"Succeeded at Saturday, February 12, 2022 9:50:38 PM (Elapsed Time: 32.93 seconds)\"]' data-show='true'><div id = 'default' /></div></div>"
      ],
      "text/plain": [
       "<Result 'C:\\\\SCMain\\\\demo\\\\DevSummit2022\\\\out\\\\out.gdb\\\\SnowCover_mosaic'>"
      ]
     },
     "execution_count": 3,
     "metadata": {},
     "output_type": "execute_result"
    }
   ],
   "source": [
    "# Step 2: Add rasters to the mosaic dataset\n",
    "print(\"Adding rasters to the mosaic datset...\")\n",
    "in_mosaic_dataset = os.path.join(in_workspace, in_mosaicdataset_name)\n",
    "raster_type = \"HDF\"\n",
    "input_path = r\"C:\\DevSummit2022\\data\\SnowCover_Monthly\"\n",
    "filter = \"*.hdf\"\n",
    "estimate_statistics = \"ESTIMATE_STATISTICS\"\n",
    "\n",
    "arcpy.AddRastersToMosaicDataset_management(in_mosaic_dataset=in_mosaic_dataset,  raster_type=raster_type,\n",
    "     input_path=input_path, filter=filter, estimate_statistics=estimate_statistics)"
   ]
  },
  {
   "cell_type": "code",
   "execution_count": 4,
   "metadata": {},
   "outputs": [
    {
     "name": "stdout",
     "output_type": "stream",
     "text": [
      "Masking out area outside snow cover...\n"
     ]
    }
   ],
   "source": [
    "# Step 3 (Optional): Mask out area outside snow cover\n",
    "print(\"Masking out area outside snow cover...\")\n",
    "raster = in_mosaic_dataset\n",
    "included_ranges = [0, 100]\n",
    "SnowCoverRaster = Mask(raster, included_ranges= included_ranges)"
   ]
  },
  {
   "cell_type": "code",
   "execution_count": 5,
   "metadata": {},
   "outputs": [
    {
     "name": "stdout",
     "output_type": "stream",
     "text": [
      "Saving output to a Cloud raster format...\n",
      "2229.1837368011475\n"
     ]
    }
   ],
   "source": [
    "# Step 4 (Optional): Persist output with multidimensional transpose\n",
    "print(\"Saving output to a Cloud raster format...\")\n",
    "in_raster = SnowCoverRaster\n",
    "out_rasterdataset = r\"C:\\DevSummit2022\\out\\SnowCover.crf\"\n",
    "process_as_multidimensional = \"ALL_SLICES\"\n",
    "build_multidimensional_transpose = \"TRANSPOSE\"\n",
    "arcpy.CopyRaster_management(in_raster = in_raster, out_rasterdataset = out_rasterdataset,\n",
    "                            process_as_multidimensional = process_as_multidimensional,\n",
    "                            build_multidimensional_transpose = build_multidimensional_transpose)\n",
    "\n",
    "#out.save (r\"C:\\DevSummit2022\\out\\SnowCover.crf\") #Persist output without multidimensional transpose\n",
    "\n",
    "print(time.time() - start_time)"
   ]
  },
  {
   "cell_type": "markdown",
   "metadata": {},
   "source": [
    "References:\n",
    "    \n",
    "Hall, D. K. and G. A. Riggs. 2015. MODIS/Terra Snow Cover Monthly L3 Global 0.05Deg CMG,\n",
    "Version 6. Boulder, Colorado USA. NASA National Snow and Ice Data Center\n",
    "Distributed Active Archive Center. https://doi.org/10.5067/MODIS/MOD10CM.006. Date Accessed: 03/03/2021."
   ]
  }
 ],
 "metadata": {
  "kernelspec": {
   "display_name": "ArcGISPro",
   "language": "Python",
   "name": "python3"
  },
  "language_info": {
   "file_extension": ".py",
   "name": "python",
   "version": "3"
  }
 },
 "nbformat": 4,
 "nbformat_minor": 2
}
